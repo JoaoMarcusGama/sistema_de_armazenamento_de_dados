{
 "cells": [
  {
   "cell_type": "code",
   "execution_count": 106,
   "metadata": {},
   "outputs": [],
   "source": [
    "import mysql.connector\n",
    "from datetime import datetime\n",
    "import pandas as pd\n",
    "import time\n",
    "import pytz"
   ]
  },
  {
   "cell_type": "code",
   "execution_count": 107,
   "metadata": {},
   "outputs": [
    {
     "data": {
      "text/plain": [
       "'2024-09-15 00:58:54'"
      ]
     },
     "execution_count": 107,
     "metadata": {},
     "output_type": "execute_result"
    }
   ],
   "source": [
    "time.strftime(\"%Y-%m-%d %H:%M:%S\", time.localtime())"
   ]
  },
  {
   "cell_type": "code",
   "execution_count": 108,
   "metadata": {},
   "outputs": [],
   "source": [
    "base=mysql.connector.connect(\n",
    "    host= 'localhost',\n",
    "    user='root',\n",
    "    password='Athos1324',\n",
    "    database='chapada_imperial'\n",
    "    )"
   ]
  },
  {
   "cell_type": "code",
   "execution_count": 117,
   "metadata": {},
   "outputs": [
    {
     "data": {
      "text/plain": [
       "<mysql.connector.cursor.MySQLCursor at 0x703968373550>"
      ]
     },
     "execution_count": 117,
     "metadata": {},
     "output_type": "execute_result"
    }
   ],
   "source": [
    "base.cursor()"
   ]
  },
  {
   "cell_type": "code",
   "execution_count": 115,
   "metadata": {},
   "outputs": [
    {
     "name": "stdout",
     "output_type": "stream",
     "text": [
      "None,2200.00 V, 1000.00 A, 1\n",
      "None,220.00 V, 12.00 A, 1\n",
      "2024-09-15 01:02:15,220.00 V, 12.00 A, 1\n"
     ]
    }
   ],
   "source": [
    "cur=base.cursor()\n",
    "cur.execute('select * from medidor1')\n",
    "\n",
    "for (data, tensão, corrente, fase) in cur:\n",
    "    print(f'{data},{tensão} V, {corrente} A, {fase}')"
   ]
  },
  {
   "cell_type": "code",
   "execution_count": 112,
   "metadata": {},
   "outputs": [],
   "source": [
    "datahora = time.strftime(\"%Y-%m-%d %H:%M:%S\", time.localtime())\n",
    "tensão = 220.00\n",
    "corrente = 12.00\n",
    "fase = '1'"
   ]
  },
  {
   "cell_type": "code",
   "execution_count": 113,
   "metadata": {},
   "outputs": [
    {
     "data": {
      "text/plain": [
       "'2024-09-15 01:02:15'"
      ]
     },
     "execution_count": 113,
     "metadata": {},
     "output_type": "execute_result"
    }
   ],
   "source": [
    "datahora"
   ]
  },
  {
   "cell_type": "code",
   "execution_count": 119,
   "metadata": {},
   "outputs": [],
   "source": [
    "cur=base.cursor()\n",
    "query = \"INSERT INTO medidor1 (datahora, tensao, corrente, fase) VALUES (%s, %s, %s, %s)\"\n",
    "data = (datahora, tensão, corrente, fase)\n",
    "cur.execute(query, data)\n",
    "base.commit()\n"
   ]
  },
  {
   "cell_type": "code",
   "execution_count": 2,
   "metadata": {},
   "outputs": [
    {
     "name": "stdout",
     "output_type": "stream",
     "text": [
      "Tempo para gerar 10.000 números aleatórios: 6.604194641113281e-05 segundos\n"
     ]
    }
   ],
   "source": [
    "import random\n",
    "import time\n",
    "\n",
    "start_time = time.time()\n",
    "random_numbers = [random.randint(0, 1)]\n",
    "end_time = time.time()\n",
    "\n",
    "print(f\"Tempo para gerar 10.000 números aleatórios: {end_time - start_time} segundos\")"
   ]
  },
  {
   "cell_type": "code",
   "execution_count": 3,
   "metadata": {},
   "outputs": [
    {
     "ename": "ModuleNotFoundError",
     "evalue": "No module named 'mysql'",
     "output_type": "error",
     "traceback": [
      "\u001b[0;31m---------------------------------------------------------------------------\u001b[0m",
      "\u001b[0;31mModuleNotFoundError\u001b[0m                       Traceback (most recent call last)",
      "Cell \u001b[0;32mIn[3], line 1\u001b[0m\n\u001b[0;32m----> 1\u001b[0m \u001b[38;5;28;01mimport\u001b[39;00m \u001b[38;5;21;01mmysql\u001b[39;00m\u001b[38;5;21;01m.\u001b[39;00m\u001b[38;5;21;01mconnector\u001b[39;00m\n\u001b[1;32m      2\u001b[0m \u001b[38;5;28;01mimport\u001b[39;00m \u001b[38;5;21;01mnumpy\u001b[39;00m \u001b[38;5;28;01mas\u001b[39;00m \u001b[38;5;21;01mnp\u001b[39;00m\n\u001b[1;32m      3\u001b[0m \u001b[38;5;28;01mimport\u001b[39;00m \u001b[38;5;21;01mtime\u001b[39;00m\n",
      "\u001b[0;31mModuleNotFoundError\u001b[0m: No module named 'mysql'"
     ]
    }
   ],
   "source": [
    "import mysql.connector\n",
    "import numpy as np\n",
    "import time\n",
    "import random\n",
    "\n",
    "# Conectando à base de dados\n",
    "base=mysql.connector.connect(\n",
    "    host= 'localhost',\n",
    "    user='root',\n",
    "    password='Athos1324',\n",
    "    database='chapada_imperial'\n",
    "    )\n",
    "\n",
    "# Pegando as variáveis\n",
    "cur=base.cursor()"
   ]
  },
  {
   "cell_type": "code",
   "execution_count": 14,
   "metadata": {},
   "outputs": [],
   "source": [
    "cur.execute('select * from medidor1')"
   ]
  },
  {
   "cell_type": "code",
   "execution_count": 15,
   "metadata": {},
   "outputs": [
    {
     "name": "stdout",
     "output_type": "stream",
     "text": [
      "MySQLCursor: select * from medidor1\n"
     ]
    }
   ],
   "source": [
    "print(cur)"
   ]
  },
  {
   "cell_type": "code",
   "execution_count": 2,
   "metadata": {},
   "outputs": [
    {
     "name": "stdout",
     "output_type": "stream",
     "text": [
      "2024-09-30 16:05:10,119.63 V, 119.63 A, 1\n",
      "2024-09-30 16:05:11,119.49 V, 119.49 A, 1\n",
      "2024-09-30 16:05:12,119.38 V, 119.38 A, 1\n",
      "2024-09-30 16:05:13,119.54 V, 119.54 A, 1\n",
      "2024-09-30 16:05:14,119.40 V, 119.40 A, 1\n",
      "2024-09-30 16:05:15,119.74 V, 119.74 A, 1\n",
      "2024-09-30 16:05:16,119.25 V, 119.25 A, 1\n",
      "2024-09-30 16:05:17,119.56 V, 119.56 A, 1\n",
      "2024-09-30 16:05:18,119.58 V, 119.58 A, 1\n",
      "2024-09-30 16:05:19,119.72 V, 119.72 A, 1\n"
     ]
    },
    {
     "ename": "KeyboardInterrupt",
     "evalue": "",
     "output_type": "error",
     "traceback": [
      "\u001b[0;31m---------------------------------------------------------------------------\u001b[0m",
      "\u001b[0;31mKeyboardInterrupt\u001b[0m                         Traceback (most recent call last)",
      "Cell \u001b[0;32mIn[2], line 30\u001b[0m\n\u001b[1;32m     28\u001b[0m     t_media\u001b[38;5;241m.\u001b[39mappend(tensão)\n\u001b[1;32m     29\u001b[0m     c_media\u001b[38;5;241m.\u001b[39mappend(corrente)\n\u001b[0;32m---> 30\u001b[0m     datahora_final \u001b[38;5;241m=\u001b[39m time\u001b[38;5;241m.\u001b[39mstrftime(\u001b[38;5;124m\"\u001b[39m\u001b[38;5;124m%\u001b[39m\u001b[38;5;124mY-\u001b[39m\u001b[38;5;124m%\u001b[39m\u001b[38;5;124mm-\u001b[39m\u001b[38;5;132;01m%d\u001b[39;00m\u001b[38;5;124m \u001b[39m\u001b[38;5;124m%\u001b[39m\u001b[38;5;124mH:\u001b[39m\u001b[38;5;124m%\u001b[39m\u001b[38;5;124mM:\u001b[39m\u001b[38;5;124m%\u001b[39m\u001b[38;5;124mS\u001b[39m\u001b[38;5;124m\"\u001b[39m, \u001b[43mtime\u001b[49m\u001b[38;5;241;43m.\u001b[39;49m\u001b[43mlocaltime\u001b[49m\u001b[43m(\u001b[49m\u001b[43m)\u001b[49m)\n\u001b[1;32m     32\u001b[0m tensão \u001b[38;5;241m=\u001b[39m \u001b[38;5;28mfloat\u001b[39m(np\u001b[38;5;241m.\u001b[39mmean(t_media))\n\u001b[1;32m     33\u001b[0m corrente \u001b[38;5;241m=\u001b[39m \u001b[38;5;28mfloat\u001b[39m(np\u001b[38;5;241m.\u001b[39mmean(t_media))\n",
      "\u001b[0;31mKeyboardInterrupt\u001b[0m: "
     ]
    }
   ],
   "source": [
    "import mysql.connector\n",
    "import numpy as np\n",
    "import time\n",
    "import random\n",
    "\n",
    "# Conectando à base de dados\n",
    "base=mysql.connector.connect(\n",
    "    host= 'localhost',\n",
    "    user='root',\n",
    "    password='Athos1324',\n",
    "    database='chapada_imperial'\n",
    "    )\n",
    "\n",
    "# Pegando as variáveis\n",
    "cur=base.cursor()\n",
    "\n",
    "while True:\n",
    "\n",
    "    t_media = []\n",
    "    c_media = []\n",
    "\n",
    "    datahora_ini = time.strftime(\"%Y-%m-%d %H:%M:%S\", time.localtime())\n",
    "    datahora_final = time.strftime(\"%Y-%m-%d %H:%M:%S\", time.localtime())\n",
    "\n",
    "    while datahora_ini == datahora_final:\n",
    "        tensão = random.randrange(20,220)\n",
    "        corrente = random.randrange(2,100)\n",
    "        t_media.append(tensão)\n",
    "        c_media.append(corrente)\n",
    "        datahora_final = time.strftime(\"%Y-%m-%d %H:%M:%S\", time.localtime())\n",
    "    \n",
    "    tensão = float(np.mean(t_media))\n",
    "    corrente = float(np.mean(t_media))\n",
    "    #print(datahora)\n",
    "    #fases = [1,2,3]\n",
    "    fase = '1'\n",
    "\n",
    "    # Salvando os valores\n",
    "\n",
    "    query = \"INSERT INTO medidor1 (datahora, tensao, corrente, fase) VALUES (%s, %s, %s, %s)\"\n",
    "    data = (datahora_ini, tensão, corrente, fase)\n",
    "    cur.execute(query, data)\n",
    "\n",
    "    # Salvando no banco de dados\n",
    "    base.commit()\n",
    "\n",
    "    # lendo a base\n",
    "\n",
    "    cur.execute('SELECT * FROM medidor1 ORDER BY datahora DESC LIMIT 1')\n",
    "\n",
    "    for (data, tensão, corrente, fase) in cur:\n",
    "        print(f'{data},{tensão} V, {corrente} A, {fase}')\n"
   ]
  }
 ],
 "metadata": {
  "kernelspec": {
   "display_name": "Python 3",
   "language": "python",
   "name": "python3"
  },
  "language_info": {
   "codemirror_mode": {
    "name": "ipython",
    "version": 3
   },
   "file_extension": ".py",
   "mimetype": "text/x-python",
   "name": "python",
   "nbconvert_exporter": "python",
   "pygments_lexer": "ipython3",
   "version": "3.11.9"
  }
 },
 "nbformat": 4,
 "nbformat_minor": 2
}
